{
 "cells": [
  {
   "cell_type": "code",
   "execution_count": 21,
   "metadata": {},
   "outputs": [],
   "source": [
    "from music21 import *\n",
    "import glob\n",
    "from tqdm import tqdm\n",
    "import numpy as np\n",
    "import random\n",
    "import mido\n",
    "from mido import MidiFile\n",
    "import tensorflow\n",
    "from sklearn.model_selection import train_test_split\n",
    "from tensorflow.keras.layers import LSTM,Dense,Input,Dropout\n",
    "from tensorflow.keras.models import Sequential,Model,load_model\n",
    "from tensorflow import keras\n",
    "from keras.models import load_model"
   ]
  },
  {
   "cell_type": "code",
   "execution_count": 2,
   "metadata": {},
   "outputs": [],
   "source": [
    "def read_files(file):\n",
    "    notes = []\n",
    "    midi = converter.parse(file)\n",
    "    instparts = instrument.partitionByInstrument(midi)\n",
    "    for part in instparts.parts:\n",
    "        if 'Piano' in str(part):\n",
    "            notes_to_parse = part.recurse()\n",
    "\n",
    "            for element in notes_to_parse:\n",
    "                if isinstance(element, note.Note):\n",
    "                    notes.append(str(element.pitch))\n",
    "                elif isinstance(element, chord.Chord):\n",
    "                    notes.append('.'.join(str(n) for n in element.normalOrder))\n",
    "    for part in instparts.parts:\n",
    "        print(\"Instrument:\", part.partName)\n",
    "\n",
    "    return notes"
   ]
  },
  {
   "cell_type": "code",
   "execution_count": 3,
   "metadata": {},
   "outputs": [],
   "source": [
    "import os\n",
    "\n",
    "main_directory = \"Data\"\n",
    "sub_directory = \"schubert\"\n",
    "\n",
    "directory_path = r'E:\\Github Projects\\New folder\\Data'  # Replace with the actual directory path\n",
    "\n",
    "all_files = []\n",
    "for root, dirs, files in os.walk(directory_path):\n",
    "    if os.path.basename(root) == sub_directory:\n",
    "        midi_files = [os.path.join(root, file) for file in files if file.endswith(\".mid\")]\n",
    "        all_files.extend(midi_files)\n"
   ]
  },
  {
   "cell_type": "code",
   "execution_count": 4,
   "metadata": {},
   "outputs": [
    {
     "data": {
      "text/plain": [
       "29"
      ]
     },
     "execution_count": 4,
     "metadata": {},
     "output_type": "execute_result"
    }
   ],
   "source": [
    "len(all_files)"
   ]
  },
  {
   "cell_type": "code",
   "execution_count": 5,
   "metadata": {},
   "outputs": [
    {
     "name": "stderr",
     "output_type": "stream",
     "text": [
      "  0%|          | 0/29 [00:00<?, ?it/s]"
     ]
    },
    {
     "name": "stderr",
     "output_type": "stream",
     "text": [
      "  3%|▎         | 1/29 [00:05<02:45,  5.93s/it]"
     ]
    },
    {
     "name": "stdout",
     "output_type": "stream",
     "text": [
      "Instrument: Piano right\n",
      "Instrument: Piano\n",
      "Instrument: Piano left\n"
     ]
    },
    {
     "name": "stderr",
     "output_type": "stream",
     "text": [
      "  7%|▋         | 2/29 [00:08<01:44,  3.87s/it]"
     ]
    },
    {
     "name": "stdout",
     "output_type": "stream",
     "text": [
      "Instrument: Piano right\n",
      "Instrument: Piano\n",
      "Instrument: Piano left\n"
     ]
    },
    {
     "name": "stderr",
     "output_type": "stream",
     "text": [
      " 10%|█         | 3/29 [00:11<01:33,  3.61s/it]"
     ]
    },
    {
     "name": "stdout",
     "output_type": "stream",
     "text": [
      "Instrument: Piano right\n",
      "Instrument: Piano\n",
      "Instrument: Piano left\n"
     ]
    },
    {
     "name": "stderr",
     "output_type": "stream",
     "text": [
      " 14%|█▍        | 4/29 [00:15<01:29,  3.59s/it]"
     ]
    },
    {
     "name": "stdout",
     "output_type": "stream",
     "text": [
      "Instrument: Piano right\n",
      "Instrument: Piano\n",
      "Instrument: Piano left\n"
     ]
    },
    {
     "name": "stderr",
     "output_type": "stream",
     "text": [
      " 17%|█▋        | 5/29 [00:21<01:45,  4.40s/it]"
     ]
    },
    {
     "name": "stdout",
     "output_type": "stream",
     "text": [
      "Instrument: Piano right\n",
      "Instrument: Piano\n",
      "Instrument: Piano left\n"
     ]
    },
    {
     "name": "stderr",
     "output_type": "stream",
     "text": [
      " 21%|██        | 6/29 [00:23<01:23,  3.65s/it]"
     ]
    },
    {
     "name": "stdout",
     "output_type": "stream",
     "text": [
      "Instrument: Right\n"
     ]
    },
    {
     "name": "stderr",
     "output_type": "stream",
     "text": [
      " 24%|██▍       | 7/29 [00:26<01:19,  3.60s/it]"
     ]
    },
    {
     "name": "stdout",
     "output_type": "stream",
     "text": [
      "Instrument: Piano right\n",
      "Instrument: Piano\n",
      "Instrument: Piano left\n"
     ]
    },
    {
     "name": "stderr",
     "output_type": "stream",
     "text": [
      " 28%|██▊       | 8/29 [00:30<01:18,  3.74s/it]"
     ]
    },
    {
     "name": "stdout",
     "output_type": "stream",
     "text": [
      "Instrument: Piano right\n",
      "Instrument: Piano\n",
      "Instrument: Piano left\n"
     ]
    },
    {
     "name": "stderr",
     "output_type": "stream",
     "text": [
      " 31%|███       | 9/29 [00:33<01:06,  3.35s/it]"
     ]
    },
    {
     "name": "stdout",
     "output_type": "stream",
     "text": [
      "Instrument: Piano right\n",
      "Instrument: Piano\n",
      "Instrument: Piano left\n"
     ]
    },
    {
     "name": "stderr",
     "output_type": "stream",
     "text": [
      " 34%|███▍      | 10/29 [00:35<00:57,  3.02s/it]"
     ]
    },
    {
     "name": "stdout",
     "output_type": "stream",
     "text": [
      "Instrument: Piano right\n",
      "Instrument: Piano\n",
      "Instrument: Piano left\n"
     ]
    },
    {
     "name": "stderr",
     "output_type": "stream",
     "text": [
      " 38%|███▊      | 11/29 [00:37<00:48,  2.72s/it]"
     ]
    },
    {
     "name": "stdout",
     "output_type": "stream",
     "text": [
      "Instrument: Piano right\n",
      "Instrument: Piano\n",
      "Instrument: Piano left\n"
     ]
    },
    {
     "name": "stderr",
     "output_type": "stream",
     "text": [
      " 41%|████▏     | 12/29 [00:39<00:42,  2.49s/it]"
     ]
    },
    {
     "name": "stdout",
     "output_type": "stream",
     "text": [
      "Instrument: Piano right\n",
      "Instrument: Piano\n",
      "Instrument: Piano left\n"
     ]
    },
    {
     "name": "stderr",
     "output_type": "stream",
     "text": [
      " 45%|████▍     | 13/29 [00:45<00:55,  3.48s/it]"
     ]
    },
    {
     "name": "stdout",
     "output_type": "stream",
     "text": [
      "Instrument: Piano right\n",
      "Instrument: Piano\n",
      "Instrument: Piano left\n"
     ]
    },
    {
     "name": "stderr",
     "output_type": "stream",
     "text": [
      " 48%|████▊     | 14/29 [00:47<00:46,  3.13s/it]"
     ]
    },
    {
     "name": "stdout",
     "output_type": "stream",
     "text": [
      "Instrument: Piano right\n",
      "Instrument: Piano\n",
      "Instrument: Piano left\n"
     ]
    },
    {
     "name": "stderr",
     "output_type": "stream",
     "text": [
      " 52%|█████▏    | 15/29 [00:49<00:38,  2.75s/it]"
     ]
    },
    {
     "name": "stdout",
     "output_type": "stream",
     "text": [
      "Instrument: Piano right\n",
      "Instrument: Piano\n",
      "Instrument: Piano left\n"
     ]
    },
    {
     "name": "stderr",
     "output_type": "stream",
     "text": [
      " 55%|█████▌    | 16/29 [00:53<00:42,  3.23s/it]"
     ]
    },
    {
     "name": "stdout",
     "output_type": "stream",
     "text": [
      "Instrument: Piano right\n",
      "Instrument: Piano\n",
      "Instrument: Piano left\n"
     ]
    },
    {
     "name": "stderr",
     "output_type": "stream",
     "text": [
      " 59%|█████▊    | 17/29 [00:58<00:43,  3.60s/it]"
     ]
    },
    {
     "name": "stdout",
     "output_type": "stream",
     "text": [
      "Instrument: Piano right\n",
      "Instrument: Piano\n",
      "Instrument: Piano left\n"
     ]
    },
    {
     "name": "stderr",
     "output_type": "stream",
     "text": [
      " 62%|██████▏   | 18/29 [01:01<00:38,  3.51s/it]"
     ]
    },
    {
     "name": "stdout",
     "output_type": "stream",
     "text": [
      "Instrument: Piano right\n",
      "Instrument: Piano\n",
      "Instrument: Piano left\n"
     ]
    },
    {
     "name": "stderr",
     "output_type": "stream",
     "text": [
      " 66%|██████▌   | 19/29 [01:08<00:44,  4.45s/it]"
     ]
    },
    {
     "name": "stdout",
     "output_type": "stream",
     "text": [
      "Instrument: Piano right\n",
      "Instrument: Piano\n",
      "Instrument: Piano left\n"
     ]
    },
    {
     "name": "stderr",
     "output_type": "stream",
     "text": [
      " 69%|██████▉   | 20/29 [01:12<00:38,  4.25s/it]"
     ]
    },
    {
     "name": "stdout",
     "output_type": "stream",
     "text": [
      "Instrument: Piano right\n",
      "Instrument: Piano\n",
      "Instrument: Piano left\n"
     ]
    },
    {
     "name": "stderr",
     "output_type": "stream",
     "text": [
      " 72%|███████▏  | 21/29 [01:13<00:27,  3.45s/it]"
     ]
    },
    {
     "name": "stdout",
     "output_type": "stream",
     "text": [
      "Instrument: Piano right\n",
      "Instrument: Piano\n",
      "Instrument: Piano left\n"
     ]
    },
    {
     "name": "stderr",
     "output_type": "stream",
     "text": [
      " 76%|███████▌  | 22/29 [01:16<00:22,  3.27s/it]"
     ]
    },
    {
     "name": "stdout",
     "output_type": "stream",
     "text": [
      "Instrument: Piano right\n",
      "Instrument: Piano\n",
      "Instrument: Piano Left\n"
     ]
    },
    {
     "name": "stderr",
     "output_type": "stream",
     "text": [
      " 79%|███████▉  | 23/29 [01:17<00:14,  2.45s/it]"
     ]
    },
    {
     "name": "stdout",
     "output_type": "stream",
     "text": [
      "Instrument: Piano right\n",
      "Instrument: Piano\n",
      "Instrument: Piano left\n"
     ]
    },
    {
     "name": "stderr",
     "output_type": "stream",
     "text": [
      " 83%|████████▎ | 24/29 [01:19<00:11,  2.35s/it]"
     ]
    },
    {
     "name": "stdout",
     "output_type": "stream",
     "text": [
      "Instrument: Piano right\n",
      "Instrument: Piano\n",
      "Instrument: Piano left\n"
     ]
    },
    {
     "name": "stderr",
     "output_type": "stream",
     "text": [
      " 86%|████████▌ | 25/29 [01:20<00:08,  2.06s/it]"
     ]
    },
    {
     "name": "stdout",
     "output_type": "stream",
     "text": [
      "Instrument: Piano right\n",
      "Instrument: Piano\n",
      "Instrument: Piano left\n"
     ]
    },
    {
     "name": "stderr",
     "output_type": "stream",
     "text": [
      " 90%|████████▉ | 26/29 [01:21<00:05,  1.85s/it]"
     ]
    },
    {
     "name": "stdout",
     "output_type": "stream",
     "text": [
      "Instrument: Piano right\n",
      "Instrument: Piano\n",
      "Instrument: Piano left\n"
     ]
    },
    {
     "name": "stderr",
     "output_type": "stream",
     "text": [
      " 93%|█████████▎| 27/29 [01:25<00:04,  2.39s/it]"
     ]
    },
    {
     "name": "stdout",
     "output_type": "stream",
     "text": [
      "Instrument: Piaro right\n",
      "Instrument: Piano left\n"
     ]
    },
    {
     "name": "stderr",
     "output_type": "stream",
     "text": [
      " 97%|█████████▋| 28/29 [01:26<00:02,  2.08s/it]"
     ]
    },
    {
     "name": "stdout",
     "output_type": "stream",
     "text": [
      "Instrument: Piano right\n",
      "Instrument: Piano\n",
      "Instrument: Piano left\n"
     ]
    },
    {
     "name": "stderr",
     "output_type": "stream",
     "text": [
      "100%|██████████| 29/29 [01:29<00:00,  3.08s/it]"
     ]
    },
    {
     "name": "stdout",
     "output_type": "stream",
     "text": [
      "Instrument: Piano right\n",
      "Instrument: Piano\n",
      "Instrument: Piano left\n"
     ]
    },
    {
     "name": "stderr",
     "output_type": "stream",
     "text": [
      "\n"
     ]
    }
   ],
   "source": [
    "notes_array = []\n",
    "for file_path in tqdm(all_files, position=0, leave=True):\n",
    "    notes = read_files(file_path)\n",
    "    notes_array.append(notes)\n"
   ]
  },
  {
   "cell_type": "code",
   "execution_count": 6,
   "metadata": {},
   "outputs": [
    {
     "name": "stdout",
     "output_type": "stream",
     "text": [
      "Unique Notes: 345\n",
      "30 : 204\n",
      "50 : 182\n",
      "70 : 163\n",
      "90 : 153\n"
     ]
    }
   ],
   "source": [
    "notess = sum(notes_array,[])\n",
    "unique_notes = list(set(notess))\n",
    "print(\"Unique Notes:\",len(unique_notes))\n",
    "\n",
    "freq=dict(map(lambda x: (x,notess.count(x)),unique_notes))\n",
    "for i in range(30,100,20):\n",
    "    print(i,\":\",len(list(filter(lambda x:x[1]>=i,freq.items()))))\n"
   ]
  },
  {
   "cell_type": "markdown",
   "metadata": {},
   "source": [
    "Threshold Frequency set at : 50\n"
   ]
  },
  {
   "cell_type": "code",
   "execution_count": 7,
   "metadata": {},
   "outputs": [],
   "source": [
    "freq_notes = dict(filter(lambda x : x[1] >= 50, freq.items()))\n",
    "\n",
    "new_notes = [[i for i in j if i in freq_notes] for j in notes_array]"
   ]
  },
  {
   "cell_type": "code",
   "execution_count": 8,
   "metadata": {},
   "outputs": [],
   "source": [
    "ind2note = dict(enumerate(freq_notes))\n",
    "note2ind = dict(map(reversed, ind2note.items()))"
   ]
  },
  {
   "cell_type": "code",
   "execution_count": 9,
   "metadata": {},
   "outputs": [
    {
     "data": {
      "text/plain": [
       "{0: '8.10',\n",
       " 1: 'C#4',\n",
       " 2: '9.11',\n",
       " 3: '2.5',\n",
       " 4: 'F2',\n",
       " 5: '6.11',\n",
       " 6: '3.6.9',\n",
       " 7: '9.1',\n",
       " 8: '7',\n",
       " 9: '10',\n",
       " 10: '11',\n",
       " 11: 'E-5',\n",
       " 12: 'G#5',\n",
       " 13: '6.9.1',\n",
       " 14: 'G#1',\n",
       " 15: '1.6',\n",
       " 16: 'B4',\n",
       " 17: '11.2.6',\n",
       " 18: 'F#6',\n",
       " 19: 'A5',\n",
       " 20: '4.10',\n",
       " 21: 'E-2',\n",
       " 22: 'C5',\n",
       " 23: 'C#2',\n",
       " 24: '7.10.0',\n",
       " 25: 'B2',\n",
       " 26: '4.9',\n",
       " 27: '6.9',\n",
       " 28: '2.4',\n",
       " 29: '2.5.9',\n",
       " 30: 'C4',\n",
       " 31: 'G1',\n",
       " 32: '8',\n",
       " 33: 'A3',\n",
       " 34: 'F3',\n",
       " 35: 'B5',\n",
       " 36: '10.1.4',\n",
       " 37: '2.5.7',\n",
       " 38: '1.3',\n",
       " 39: 'E-4',\n",
       " 40: '3.8',\n",
       " 41: '5.7',\n",
       " 42: 'E2',\n",
       " 43: '0.4',\n",
       " 44: '5.9.0',\n",
       " 45: '0',\n",
       " 46: '5.11',\n",
       " 47: '3',\n",
       " 48: 'F#4',\n",
       " 49: '1.5.8',\n",
       " 50: '3.5',\n",
       " 51: '11.2.5.7',\n",
       " 52: '5.9',\n",
       " 53: 'E4',\n",
       " 54: '5.8',\n",
       " 55: '7.9.1',\n",
       " 56: '7.9',\n",
       " 57: 'D3',\n",
       " 58: 'E5',\n",
       " 59: '10.1',\n",
       " 60: '11.2.4',\n",
       " 61: '4.7',\n",
       " 62: 'C#6',\n",
       " 63: '7.11.2',\n",
       " 64: '0.3.6',\n",
       " 65: '11.3',\n",
       " 66: 'D4',\n",
       " 67: '3.7',\n",
       " 68: 'E-6',\n",
       " 69: '0.4.7',\n",
       " 70: '9.10',\n",
       " 71: '2.8',\n",
       " 72: '1.5',\n",
       " 73: 'B-4',\n",
       " 74: '9.0',\n",
       " 75: '4.7.11',\n",
       " 76: '10.2.5',\n",
       " 77: 'G#2',\n",
       " 78: 'B-6',\n",
       " 79: '2.7',\n",
       " 80: '4.6',\n",
       " 81: 'G3',\n",
       " 82: '10.0',\n",
       " 83: 'G#4',\n",
       " 84: '7.10.2',\n",
       " 85: '3.6.10',\n",
       " 86: 'F1',\n",
       " 87: '1.7',\n",
       " 88: '0.3.7',\n",
       " 89: '4.7.9',\n",
       " 90: '3.7.10',\n",
       " 91: '9.2',\n",
       " 92: '0.2',\n",
       " 93: '4.7.10',\n",
       " 94: 'F6',\n",
       " 95: 'E6',\n",
       " 96: 'C#3',\n",
       " 97: 'A2',\n",
       " 98: '9.0.2',\n",
       " 99: '2.4.8',\n",
       " 100: '9',\n",
       " 101: 'C7',\n",
       " 102: '2.6',\n",
       " 103: 'C2',\n",
       " 104: '3.4',\n",
       " 105: 'F5',\n",
       " 106: '10.11',\n",
       " 107: '0.3.5',\n",
       " 108: 'D2',\n",
       " 109: '1.4.7',\n",
       " 110: '10.2',\n",
       " 111: 'B1',\n",
       " 112: '4.8',\n",
       " 113: '6.10.1',\n",
       " 114: '2.6.9',\n",
       " 115: 'E3',\n",
       " 116: '6',\n",
       " 117: '1',\n",
       " 118: 'B-3',\n",
       " 119: 'D5',\n",
       " 120: '1.4.7.10',\n",
       " 121: '8.11.3',\n",
       " 122: 'F#5',\n",
       " 123: '8.1',\n",
       " 124: '11.4',\n",
       " 125: '2',\n",
       " 126: 'C3',\n",
       " 127: '7.11',\n",
       " 128: '3.9',\n",
       " 129: '8.0',\n",
       " 130: '0.1',\n",
       " 131: 'A4',\n",
       " 132: '8.11',\n",
       " 133: 'A6',\n",
       " 134: 'B-5',\n",
       " 135: '1.4',\n",
       " 136: '7.10.1',\n",
       " 137: 'B-2',\n",
       " 138: '1.4.8',\n",
       " 139: '7.8',\n",
       " 140: 'G2',\n",
       " 141: 'E-3',\n",
       " 142: '7.0',\n",
       " 143: '0.6',\n",
       " 144: '8.0.3',\n",
       " 145: '11.1',\n",
       " 146: '3.6.8',\n",
       " 147: 'C6',\n",
       " 148: '10.1.3',\n",
       " 149: '5.8.11',\n",
       " 150: 'F#3',\n",
       " 151: 'C#5',\n",
       " 152: '3.6',\n",
       " 153: '0.2.6',\n",
       " 154: 'F#2',\n",
       " 155: 'D6',\n",
       " 156: 'G#3',\n",
       " 157: '11.3.6',\n",
       " 158: 'A1',\n",
       " 159: '10.3',\n",
       " 160: '0.3',\n",
       " 161: '10.1.5',\n",
       " 162: 'B-1',\n",
       " 163: '9.1.4',\n",
       " 164: '4',\n",
       " 165: '6.8',\n",
       " 166: '7.10',\n",
       " 167: 'G#6',\n",
       " 168: '11.2',\n",
       " 169: '5.8.0',\n",
       " 170: '8.11.2',\n",
       " 171: 'G5',\n",
       " 172: '9.0.4',\n",
       " 173: 'B3',\n",
       " 174: '4.8.11',\n",
       " 175: '5.10',\n",
       " 176: 'F4',\n",
       " 177: 'G4',\n",
       " 178: '6.10',\n",
       " 179: '5',\n",
       " 180: '0.5',\n",
       " 181: 'G6'}"
      ]
     },
     "execution_count": 9,
     "metadata": {},
     "output_type": "execute_result"
    }
   ],
   "source": [
    "ind2note"
   ]
  },
  {
   "cell_type": "code",
   "execution_count": 10,
   "metadata": {},
   "outputs": [
    {
     "data": {
      "text/plain": [
       "{'8.10': 0,\n",
       " 'C#4': 1,\n",
       " '9.11': 2,\n",
       " '2.5': 3,\n",
       " 'F2': 4,\n",
       " '6.11': 5,\n",
       " '3.6.9': 6,\n",
       " '9.1': 7,\n",
       " '7': 8,\n",
       " '10': 9,\n",
       " '11': 10,\n",
       " 'E-5': 11,\n",
       " 'G#5': 12,\n",
       " '6.9.1': 13,\n",
       " 'G#1': 14,\n",
       " '1.6': 15,\n",
       " 'B4': 16,\n",
       " '11.2.6': 17,\n",
       " 'F#6': 18,\n",
       " 'A5': 19,\n",
       " '4.10': 20,\n",
       " 'E-2': 21,\n",
       " 'C5': 22,\n",
       " 'C#2': 23,\n",
       " '7.10.0': 24,\n",
       " 'B2': 25,\n",
       " '4.9': 26,\n",
       " '6.9': 27,\n",
       " '2.4': 28,\n",
       " '2.5.9': 29,\n",
       " 'C4': 30,\n",
       " 'G1': 31,\n",
       " '8': 32,\n",
       " 'A3': 33,\n",
       " 'F3': 34,\n",
       " 'B5': 35,\n",
       " '10.1.4': 36,\n",
       " '2.5.7': 37,\n",
       " '1.3': 38,\n",
       " 'E-4': 39,\n",
       " '3.8': 40,\n",
       " '5.7': 41,\n",
       " 'E2': 42,\n",
       " '0.4': 43,\n",
       " '5.9.0': 44,\n",
       " '0': 45,\n",
       " '5.11': 46,\n",
       " '3': 47,\n",
       " 'F#4': 48,\n",
       " '1.5.8': 49,\n",
       " '3.5': 50,\n",
       " '11.2.5.7': 51,\n",
       " '5.9': 52,\n",
       " 'E4': 53,\n",
       " '5.8': 54,\n",
       " '7.9.1': 55,\n",
       " '7.9': 56,\n",
       " 'D3': 57,\n",
       " 'E5': 58,\n",
       " '10.1': 59,\n",
       " '11.2.4': 60,\n",
       " '4.7': 61,\n",
       " 'C#6': 62,\n",
       " '7.11.2': 63,\n",
       " '0.3.6': 64,\n",
       " '11.3': 65,\n",
       " 'D4': 66,\n",
       " '3.7': 67,\n",
       " 'E-6': 68,\n",
       " '0.4.7': 69,\n",
       " '9.10': 70,\n",
       " '2.8': 71,\n",
       " '1.5': 72,\n",
       " 'B-4': 73,\n",
       " '9.0': 74,\n",
       " '4.7.11': 75,\n",
       " '10.2.5': 76,\n",
       " 'G#2': 77,\n",
       " 'B-6': 78,\n",
       " '2.7': 79,\n",
       " '4.6': 80,\n",
       " 'G3': 81,\n",
       " '10.0': 82,\n",
       " 'G#4': 83,\n",
       " '7.10.2': 84,\n",
       " '3.6.10': 85,\n",
       " 'F1': 86,\n",
       " '1.7': 87,\n",
       " '0.3.7': 88,\n",
       " '4.7.9': 89,\n",
       " '3.7.10': 90,\n",
       " '9.2': 91,\n",
       " '0.2': 92,\n",
       " '4.7.10': 93,\n",
       " 'F6': 94,\n",
       " 'E6': 95,\n",
       " 'C#3': 96,\n",
       " 'A2': 97,\n",
       " '9.0.2': 98,\n",
       " '2.4.8': 99,\n",
       " '9': 100,\n",
       " 'C7': 101,\n",
       " '2.6': 102,\n",
       " 'C2': 103,\n",
       " '3.4': 104,\n",
       " 'F5': 105,\n",
       " '10.11': 106,\n",
       " '0.3.5': 107,\n",
       " 'D2': 108,\n",
       " '1.4.7': 109,\n",
       " '10.2': 110,\n",
       " 'B1': 111,\n",
       " '4.8': 112,\n",
       " '6.10.1': 113,\n",
       " '2.6.9': 114,\n",
       " 'E3': 115,\n",
       " '6': 116,\n",
       " '1': 117,\n",
       " 'B-3': 118,\n",
       " 'D5': 119,\n",
       " '1.4.7.10': 120,\n",
       " '8.11.3': 121,\n",
       " 'F#5': 122,\n",
       " '8.1': 123,\n",
       " '11.4': 124,\n",
       " '2': 125,\n",
       " 'C3': 126,\n",
       " '7.11': 127,\n",
       " '3.9': 128,\n",
       " '8.0': 129,\n",
       " '0.1': 130,\n",
       " 'A4': 131,\n",
       " '8.11': 132,\n",
       " 'A6': 133,\n",
       " 'B-5': 134,\n",
       " '1.4': 135,\n",
       " '7.10.1': 136,\n",
       " 'B-2': 137,\n",
       " '1.4.8': 138,\n",
       " '7.8': 139,\n",
       " 'G2': 140,\n",
       " 'E-3': 141,\n",
       " '7.0': 142,\n",
       " '0.6': 143,\n",
       " '8.0.3': 144,\n",
       " '11.1': 145,\n",
       " '3.6.8': 146,\n",
       " 'C6': 147,\n",
       " '10.1.3': 148,\n",
       " '5.8.11': 149,\n",
       " 'F#3': 150,\n",
       " 'C#5': 151,\n",
       " '3.6': 152,\n",
       " '0.2.6': 153,\n",
       " 'F#2': 154,\n",
       " 'D6': 155,\n",
       " 'G#3': 156,\n",
       " '11.3.6': 157,\n",
       " 'A1': 158,\n",
       " '10.3': 159,\n",
       " '0.3': 160,\n",
       " '10.1.5': 161,\n",
       " 'B-1': 162,\n",
       " '9.1.4': 163,\n",
       " '4': 164,\n",
       " '6.8': 165,\n",
       " '7.10': 166,\n",
       " 'G#6': 167,\n",
       " '11.2': 168,\n",
       " '5.8.0': 169,\n",
       " '8.11.2': 170,\n",
       " 'G5': 171,\n",
       " '9.0.4': 172,\n",
       " 'B3': 173,\n",
       " '4.8.11': 174,\n",
       " '5.10': 175,\n",
       " 'F4': 176,\n",
       " 'G4': 177,\n",
       " '6.10': 178,\n",
       " '5': 179,\n",
       " '0.5': 180,\n",
       " 'G6': 181}"
      ]
     },
     "execution_count": 10,
     "metadata": {},
     "output_type": "execute_result"
    }
   ],
   "source": [
    "note2ind"
   ]
  },
  {
   "cell_type": "markdown",
   "metadata": {},
   "source": [
    "Input and Output Sequence for model\n",
    "Timestep = 50  , target = 51st"
   ]
  },
  {
   "cell_type": "code",
   "execution_count": 11,
   "metadata": {},
   "outputs": [],
   "source": [
    "timesteps = 50\n",
    "x = []\n",
    "y=[]\n",
    "for i in new_notes:\n",
    "    for j in range(0, len(i) - timesteps):\n",
    "        inp = i[j : j + timesteps] ; out = i[j + timesteps]\n",
    "\n",
    "        x.append(list(map(lambda x : note2ind[x], inp)))\n",
    "        y.append(note2ind[out])\n",
    "\n",
    "x_new = np.array(x)\n",
    "y_new = np.array(y)"
   ]
  },
  {
   "cell_type": "code",
   "execution_count": 12,
   "metadata": {},
   "outputs": [
    {
     "data": {
      "text/plain": [
       "((78100, 50), (78100,))"
      ]
     },
     "execution_count": 12,
     "metadata": {},
     "output_type": "execute_result"
    }
   ],
   "source": [
    "x_new.shape , y_new.shape"
   ]
  },
  {
   "cell_type": "code",
   "execution_count": 13,
   "metadata": {},
   "outputs": [],
   "source": [
    "x_new = np.reshape(x_new, (len(x_new), timesteps, 1))\n",
    "y_new = np.reshape(y_new, (-1,1))\n",
    "\n",
    "x_train, x_test, y_train, y_test = train_test_split(x_new, y_new, test_size=0.2, random_state = 42)"
   ]
  },
  {
   "cell_type": "code",
   "execution_count": 14,
   "metadata": {},
   "outputs": [
    {
     "data": {
      "text/plain": [
       "((78100, 50, 1), (78100, 1))"
      ]
     },
     "execution_count": 14,
     "metadata": {},
     "output_type": "execute_result"
    }
   ],
   "source": [
    "x_new.shape , y_new.shape"
   ]
  },
  {
   "cell_type": "code",
   "execution_count": 15,
   "metadata": {},
   "outputs": [
    {
     "data": {
      "text/plain": [
       "((62480, 50, 1), (62480, 1), (15620, 50, 1), (15620, 1))"
      ]
     },
     "execution_count": 15,
     "metadata": {},
     "output_type": "execute_result"
    }
   ],
   "source": [
    "x_train.shape , y_train.shape, x_test.shape , y_test.shape"
   ]
  },
  {
   "cell_type": "code",
   "execution_count": 16,
   "metadata": {},
   "outputs": [
    {
     "name": "stdout",
     "output_type": "stream",
     "text": [
      "Model: \"sequential\"\n",
      "_________________________________________________________________\n",
      " Layer (type)                Output Shape              Param #   \n",
      "=================================================================\n",
      " lstm (LSTM)                 (None, 50, 256)           264192    \n",
      "                                                                 \n",
      " dropout (Dropout)           (None, 50, 256)           0         \n",
      "                                                                 \n",
      " lstm_1 (LSTM)               (None, 256)               525312    \n",
      "                                                                 \n",
      " dropout_1 (Dropout)         (None, 256)               0         \n",
      "                                                                 \n",
      " dense (Dense)               (None, 256)               65792     \n",
      "                                                                 \n",
      " dense_1 (Dense)             (None, 182)               46774     \n",
      "                                                                 \n",
      "=================================================================\n",
      "Total params: 902070 (3.44 MB)\n",
      "Trainable params: 902070 (3.44 MB)\n",
      "Non-trainable params: 0 (0.00 Byte)\n",
      "_________________________________________________________________\n"
     ]
    }
   ],
   "source": [
    "#Model\n",
    "model = tensorflow.keras.Sequential([\n",
    "    tensorflow.keras.layers.LSTM(256, return_sequences= True,input_shape=(x_new.shape[1], x_new.shape[2])),\n",
    "    tensorflow.keras.layers.Dropout(0.2),\n",
    "    tensorflow.keras.layers.LSTM(256),\n",
    "    tensorflow.keras.layers.Dropout(0.2),\n",
    "    tensorflow.keras.layers.Dense(256, activation='relu'),\n",
    "    tensorflow.keras.layers.Dense(len(note2ind), activation='softmax')\n",
    "])\n",
    "\n",
    "model.compile(loss='sparse_categorical_crossentropy', optimizer='adam', metrics=['accuracy'])\n",
    "\n",
    "model.summary()"
   ]
  },
  {
   "cell_type": "code",
   "execution_count": 18,
   "metadata": {},
   "outputs": [
    {
     "name": "stdout",
     "output_type": "stream",
     "text": [
      "Epoch 1/50\n",
      "489/489 [==============================] - 484s 989ms/step - loss: 4.6398 - accuracy: 0.0384 - val_loss: 4.4984 - val_accuracy: 0.0518\n",
      "Epoch 2/50\n",
      "489/489 [==============================] - 471s 963ms/step - loss: 4.4322 - accuracy: 0.0609 - val_loss: 4.3627 - val_accuracy: 0.0714\n",
      "Epoch 3/50\n",
      "489/489 [==============================] - 499s 1s/step - loss: 4.2027 - accuracy: 0.0912 - val_loss: 4.0854 - val_accuracy: 0.1077\n",
      "Epoch 4/50\n",
      "489/489 [==============================] - 445s 909ms/step - loss: 3.9251 - accuracy: 0.1274 - val_loss: 3.8539 - val_accuracy: 0.1405\n",
      "Epoch 5/50\n",
      "489/489 [==============================] - 421s 861ms/step - loss: 3.6670 - accuracy: 0.1610 - val_loss: 3.6553 - val_accuracy: 0.1727\n",
      "Epoch 6/50\n",
      "489/489 [==============================] - 411s 840ms/step - loss: 3.4327 - accuracy: 0.1934 - val_loss: 3.4971 - val_accuracy: 0.1926\n",
      "Epoch 7/50\n",
      "489/489 [==============================] - 414s 846ms/step - loss: 3.2323 - accuracy: 0.2235 - val_loss: 3.4056 - val_accuracy: 0.2077\n",
      "Epoch 8/50\n",
      "489/489 [==============================] - 414s 846ms/step - loss: 3.0686 - accuracy: 0.2471 - val_loss: 3.2812 - val_accuracy: 0.2255\n",
      "Epoch 9/50\n",
      "489/489 [==============================] - 451s 922ms/step - loss: 2.9216 - accuracy: 0.2714 - val_loss: 3.2116 - val_accuracy: 0.2415\n",
      "Epoch 10/50\n",
      "489/489 [==============================] - 550s 1s/step - loss: 2.7957 - accuracy: 0.2932 - val_loss: 3.1292 - val_accuracy: 0.2507\n",
      "Epoch 11/50\n",
      "489/489 [==============================] - 453s 925ms/step - loss: 2.6766 - accuracy: 0.3134 - val_loss: 3.0938 - val_accuracy: 0.2581\n",
      "Epoch 12/50\n",
      "489/489 [==============================] - 427s 873ms/step - loss: 2.5823 - accuracy: 0.3286 - val_loss: 3.0464 - val_accuracy: 0.2730\n",
      "Epoch 13/50\n",
      "489/489 [==============================] - 425s 869ms/step - loss: 2.4891 - accuracy: 0.3472 - val_loss: 3.0175 - val_accuracy: 0.2804\n",
      "Epoch 14/50\n",
      "489/489 [==============================] - 449s 917ms/step - loss: 2.4026 - accuracy: 0.3642 - val_loss: 2.9668 - val_accuracy: 0.2935\n",
      "Epoch 15/50\n",
      "489/489 [==============================] - 457s 935ms/step - loss: 2.3196 - accuracy: 0.3786 - val_loss: 2.9319 - val_accuracy: 0.3063\n",
      "Epoch 16/50\n",
      "489/489 [==============================] - 428s 875ms/step - loss: 2.2472 - accuracy: 0.3962 - val_loss: 2.9068 - val_accuracy: 0.3082\n",
      "Epoch 17/50\n",
      "489/489 [==============================] - 425s 870ms/step - loss: 2.1798 - accuracy: 0.4093 - val_loss: 2.9071 - val_accuracy: 0.3131\n",
      "Epoch 18/50\n",
      "489/489 [==============================] - 428s 875ms/step - loss: 2.1244 - accuracy: 0.4198 - val_loss: 2.8735 - val_accuracy: 0.3243\n",
      "Epoch 19/50\n",
      "489/489 [==============================] - 430s 879ms/step - loss: 2.0639 - accuracy: 0.4337 - val_loss: 2.8611 - val_accuracy: 0.3317\n",
      "Epoch 20/50\n",
      "489/489 [==============================] - 462s 946ms/step - loss: 2.0091 - accuracy: 0.4449 - val_loss: 2.8550 - val_accuracy: 0.3343\n",
      "Epoch 21/50\n",
      "489/489 [==============================] - 452s 925ms/step - loss: 1.9612 - accuracy: 0.4565 - val_loss: 2.8421 - val_accuracy: 0.3453\n",
      "Epoch 22/50\n",
      "489/489 [==============================] - 420s 859ms/step - loss: 1.9067 - accuracy: 0.4693 - val_loss: 2.8153 - val_accuracy: 0.3506\n",
      "Epoch 23/50\n",
      "489/489 [==============================] - 413s 844ms/step - loss: 1.8667 - accuracy: 0.4752 - val_loss: 2.8183 - val_accuracy: 0.3562\n",
      "Epoch 24/50\n",
      "489/489 [==============================] - 415s 849ms/step - loss: 1.8184 - accuracy: 0.4873 - val_loss: 2.8220 - val_accuracy: 0.3585\n",
      "Epoch 25/50\n",
      "489/489 [==============================] - 414s 846ms/step - loss: 1.7793 - accuracy: 0.4959 - val_loss: 2.8286 - val_accuracy: 0.3677\n",
      "Epoch 26/50\n",
      "489/489 [==============================] - 418s 854ms/step - loss: 1.7458 - accuracy: 0.5043 - val_loss: 2.8190 - val_accuracy: 0.3700\n",
      "Epoch 27/50\n",
      "489/489 [==============================] - 453s 926ms/step - loss: 1.7069 - accuracy: 0.5126 - val_loss: 2.8109 - val_accuracy: 0.3743\n",
      "Epoch 28/50\n",
      "489/489 [==============================] - 477s 975ms/step - loss: 1.6726 - accuracy: 0.5221 - val_loss: 2.7975 - val_accuracy: 0.3828\n",
      "Epoch 29/50\n",
      "489/489 [==============================] - 426s 872ms/step - loss: 1.6461 - accuracy: 0.5272 - val_loss: 2.7922 - val_accuracy: 0.3884\n",
      "Epoch 30/50\n",
      "489/489 [==============================] - 440s 901ms/step - loss: 1.6148 - accuracy: 0.5351 - val_loss: 2.8117 - val_accuracy: 0.3889\n",
      "Epoch 31/50\n",
      "489/489 [==============================] - 442s 904ms/step - loss: 1.5871 - accuracy: 0.5403 - val_loss: 2.8023 - val_accuracy: 0.3899\n",
      "Epoch 32/50\n",
      "489/489 [==============================] - 434s 887ms/step - loss: 1.5550 - accuracy: 0.5496 - val_loss: 2.8020 - val_accuracy: 0.3995\n",
      "Epoch 33/50\n",
      "489/489 [==============================] - 429s 877ms/step - loss: 1.5293 - accuracy: 0.5570 - val_loss: 2.8228 - val_accuracy: 0.4004\n",
      "Epoch 34/50\n",
      "489/489 [==============================] - 430s 879ms/step - loss: 1.5161 - accuracy: 0.5574 - val_loss: 2.8079 - val_accuracy: 0.4056\n",
      "Epoch 35/50\n",
      "489/489 [==============================] - 433s 886ms/step - loss: 1.4922 - accuracy: 0.5641 - val_loss: 2.8134 - val_accuracy: 0.4063\n",
      "Epoch 36/50\n",
      "489/489 [==============================] - 428s 875ms/step - loss: 1.4648 - accuracy: 0.5715 - val_loss: 2.8279 - val_accuracy: 0.4131\n",
      "Epoch 37/50\n",
      "489/489 [==============================] - 425s 869ms/step - loss: 1.4410 - accuracy: 0.5780 - val_loss: 2.8535 - val_accuracy: 0.4100\n",
      "Epoch 38/50\n",
      "489/489 [==============================] - 426s 872ms/step - loss: 1.4259 - accuracy: 0.5814 - val_loss: 2.8157 - val_accuracy: 0.4184\n",
      "Epoch 39/50\n",
      "489/489 [==============================] - 411s 841ms/step - loss: 1.3920 - accuracy: 0.5882 - val_loss: 2.8397 - val_accuracy: 0.4227\n",
      "Epoch 40/50\n",
      "489/489 [==============================] - 440s 899ms/step - loss: 1.3877 - accuracy: 0.5910 - val_loss: 2.8502 - val_accuracy: 0.4219\n",
      "Epoch 41/50\n",
      "489/489 [==============================] - 552s 1s/step - loss: 1.3559 - accuracy: 0.5983 - val_loss: 2.8393 - val_accuracy: 0.4262\n",
      "Epoch 42/50\n",
      "489/489 [==============================] - 536s 1s/step - loss: 1.3404 - accuracy: 0.6036 - val_loss: 2.8598 - val_accuracy: 0.4293\n",
      "Epoch 43/50\n",
      "489/489 [==============================] - 405s 828ms/step - loss: 1.3357 - accuracy: 0.6040 - val_loss: 2.8573 - val_accuracy: 0.4320\n",
      "Epoch 44/50\n",
      "489/489 [==============================] - 405s 827ms/step - loss: 1.3082 - accuracy: 0.6119 - val_loss: 2.8608 - val_accuracy: 0.4310\n",
      "Epoch 45/50\n",
      "489/489 [==============================] - 404s 826ms/step - loss: 1.2832 - accuracy: 0.6168 - val_loss: 2.8749 - val_accuracy: 0.4347\n",
      "Epoch 46/50\n",
      "489/489 [==============================] - 403s 823ms/step - loss: 1.2856 - accuracy: 0.6174 - val_loss: 2.8890 - val_accuracy: 0.4334\n",
      "Epoch 47/50\n",
      "489/489 [==============================] - 405s 828ms/step - loss: 1.2688 - accuracy: 0.6220 - val_loss: 2.8852 - val_accuracy: 0.4410\n",
      "Epoch 48/50\n",
      "489/489 [==============================] - 406s 829ms/step - loss: 1.2529 - accuracy: 0.6238 - val_loss: 2.8866 - val_accuracy: 0.4349\n",
      "Epoch 49/50\n",
      "489/489 [==============================] - 407s 833ms/step - loss: 1.2425 - accuracy: 0.6280 - val_loss: 2.9105 - val_accuracy: 0.4382\n",
      "Epoch 50/50\n",
      "489/489 [==============================] - 407s 832ms/step - loss: 1.2213 - accuracy: 0.6324 - val_loss: 2.9123 - val_accuracy: 0.4430\n"
     ]
    },
    {
     "data": {
      "text/plain": [
       "<keras.src.callbacks.History at 0x166b8198b50>"
      ]
     },
     "execution_count": 18,
     "metadata": {},
     "output_type": "execute_result"
    }
   ],
   "source": [
    "model.fit(x_train, y_train,\n",
    "        batch_size = 128, \n",
    "        epochs = 50, \n",
    "        validation_data=(x_test, y_test))"
   ]
  },
  {
   "cell_type": "code",
   "execution_count": 19,
   "metadata": {},
   "outputs": [
    {
     "name": "stderr",
     "output_type": "stream",
     "text": [
      "c:\\Users\\Archit\\miniconda3\\envs\\venv1\\Lib\\site-packages\\keras\\src\\engine\\training.py:3000: UserWarning: You are saving your model as an HDF5 file via `model.save()`. This file format is considered legacy. We recommend using instead the native Keras format, e.g. `model.save('my_model.keras')`.\n",
      "  saving_api.save_model(\n"
     ]
    }
   ],
   "source": [
    "model.save('model_file.h5')"
   ]
  },
  {
   "cell_type": "code",
   "execution_count": 26,
   "metadata": {},
   "outputs": [
    {
     "name": "stdout",
     "output_type": "stream",
     "text": [
      "1/1 [==============================] - 3s 3s/step\n",
      "1/1 [==============================] - 2s 2s/step\n",
      "1/1 [==============================] - 0s 64ms/step\n",
      "1/1 [==============================] - 0s 60ms/step\n",
      "1/1 [==============================] - 0s 58ms/step\n",
      "1/1 [==============================] - 0s 57ms/step\n",
      "1/1 [==============================] - 0s 65ms/step\n",
      "1/1 [==============================] - 0s 63ms/step\n",
      "1/1 [==============================] - 0s 67ms/step\n",
      "1/1 [==============================] - 0s 96ms/step\n",
      "1/1 [==============================] - 0s 120ms/step\n",
      "1/1 [==============================] - 0s 74ms/step\n",
      "1/1 [==============================] - 0s 57ms/step\n",
      "1/1 [==============================] - 0s 80ms/step\n",
      "1/1 [==============================] - 0s 63ms/step\n",
      "1/1 [==============================] - 0s 69ms/step\n",
      "1/1 [==============================] - 0s 57ms/step\n",
      "1/1 [==============================] - 0s 60ms/step\n",
      "1/1 [==============================] - 0s 69ms/step\n",
      "1/1 [==============================] - 0s 85ms/step\n",
      "1/1 [==============================] - 0s 80ms/step\n",
      "1/1 [==============================] - 0s 53ms/step\n",
      "1/1 [==============================] - 0s 64ms/step\n",
      "1/1 [==============================] - 0s 62ms/step\n",
      "1/1 [==============================] - 0s 84ms/step\n",
      "1/1 [==============================] - 0s 61ms/step\n",
      "1/1 [==============================] - 0s 61ms/step\n",
      "1/1 [==============================] - 0s 53ms/step\n",
      "1/1 [==============================] - 0s 53ms/step\n",
      "1/1 [==============================] - 0s 64ms/step\n",
      "1/1 [==============================] - 0s 66ms/step\n",
      "1/1 [==============================] - 0s 47ms/step\n",
      "1/1 [==============================] - 0s 55ms/step\n",
      "1/1 [==============================] - 0s 63ms/step\n",
      "1/1 [==============================] - 0s 54ms/step\n",
      "1/1 [==============================] - 0s 70ms/step\n",
      "1/1 [==============================] - 0s 54ms/step\n",
      "1/1 [==============================] - 0s 55ms/step\n",
      "1/1 [==============================] - 0s 58ms/step\n",
      "1/1 [==============================] - 0s 53ms/step\n",
      "1/1 [==============================] - 0s 53ms/step\n",
      "1/1 [==============================] - 0s 49ms/step\n",
      "1/1 [==============================] - 0s 56ms/step\n",
      "1/1 [==============================] - 0s 48ms/step\n",
      "1/1 [==============================] - 0s 53ms/step\n",
      "1/1 [==============================] - 0s 55ms/step\n",
      "1/1 [==============================] - 0s 54ms/step\n",
      "1/1 [==============================] - 0s 55ms/step\n",
      "1/1 [==============================] - 0s 54ms/step\n",
      "1/1 [==============================] - 0s 51ms/step\n",
      "1/1 [==============================] - 0s 54ms/step\n",
      "1/1 [==============================] - 0s 53ms/step\n",
      "1/1 [==============================] - 0s 52ms/step\n",
      "1/1 [==============================] - 0s 79ms/step\n",
      "1/1 [==============================] - 0s 47ms/step\n",
      "1/1 [==============================] - 0s 50ms/step\n",
      "1/1 [==============================] - 0s 59ms/step\n",
      "1/1 [==============================] - 0s 58ms/step\n",
      "1/1 [==============================] - 0s 57ms/step\n",
      "1/1 [==============================] - 0s 51ms/step\n",
      "1/1 [==============================] - 0s 50ms/step\n",
      "1/1 [==============================] - 0s 61ms/step\n",
      "1/1 [==============================] - 0s 66ms/step\n",
      "1/1 [==============================] - 0s 54ms/step\n",
      "1/1 [==============================] - 0s 60ms/step\n",
      "1/1 [==============================] - 0s 54ms/step\n",
      "1/1 [==============================] - 0s 58ms/step\n",
      "1/1 [==============================] - 0s 62ms/step\n",
      "1/1 [==============================] - 0s 53ms/step\n",
      "1/1 [==============================] - 0s 57ms/step\n",
      "1/1 [==============================] - 0s 54ms/step\n",
      "1/1 [==============================] - 0s 63ms/step\n",
      "1/1 [==============================] - 0s 125ms/step\n",
      "1/1 [==============================] - 0s 61ms/step\n",
      "1/1 [==============================] - 0s 61ms/step\n",
      "1/1 [==============================] - 0s 55ms/step\n",
      "1/1 [==============================] - 0s 55ms/step\n",
      "1/1 [==============================] - 0s 57ms/step\n",
      "1/1 [==============================] - 0s 65ms/step\n",
      "1/1 [==============================] - 0s 65ms/step\n",
      "1/1 [==============================] - 0s 76ms/step\n",
      "1/1 [==============================] - 0s 60ms/step\n",
      "1/1 [==============================] - 0s 59ms/step\n",
      "1/1 [==============================] - 0s 73ms/step\n",
      "1/1 [==============================] - 0s 59ms/step\n",
      "1/1 [==============================] - 0s 66ms/step\n",
      "1/1 [==============================] - 0s 104ms/step\n",
      "1/1 [==============================] - 0s 71ms/step\n",
      "1/1 [==============================] - 0s 62ms/step\n",
      "1/1 [==============================] - 0s 73ms/step\n",
      "1/1 [==============================] - 0s 60ms/step\n",
      "1/1 [==============================] - 0s 60ms/step\n",
      "1/1 [==============================] - 0s 62ms/step\n",
      "1/1 [==============================] - 0s 61ms/step\n",
      "1/1 [==============================] - 0s 63ms/step\n",
      "1/1 [==============================] - 0s 72ms/step\n",
      "1/1 [==============================] - 0s 64ms/step\n",
      "1/1 [==============================] - 0s 57ms/step\n",
      "1/1 [==============================] - 0s 64ms/step\n",
      "1/1 [==============================] - 0s 55ms/step\n",
      "1/1 [==============================] - 0s 60ms/step\n",
      "1/1 [==============================] - 0s 60ms/step\n",
      "1/1 [==============================] - 0s 60ms/step\n",
      "1/1 [==============================] - 0s 56ms/step\n",
      "1/1 [==============================] - 0s 57ms/step\n",
      "1/1 [==============================] - 0s 51ms/step\n",
      "1/1 [==============================] - 0s 54ms/step\n",
      "1/1 [==============================] - 0s 56ms/step\n",
      "1/1 [==============================] - 0s 51ms/step\n",
      "1/1 [==============================] - 0s 52ms/step\n",
      "1/1 [==============================] - 0s 55ms/step\n",
      "1/1 [==============================] - 0s 53ms/step\n",
      "1/1 [==============================] - 0s 52ms/step\n",
      "1/1 [==============================] - 0s 50ms/step\n",
      "1/1 [==============================] - 0s 54ms/step\n",
      "1/1 [==============================] - 0s 53ms/step\n",
      "1/1 [==============================] - 0s 61ms/step\n",
      "1/1 [==============================] - 0s 53ms/step\n",
      "1/1 [==============================] - 0s 61ms/step\n",
      "1/1 [==============================] - 0s 55ms/step\n",
      "1/1 [==============================] - 0s 56ms/step\n",
      "1/1 [==============================] - 0s 51ms/step\n",
      "1/1 [==============================] - 0s 57ms/step\n",
      "1/1 [==============================] - 0s 51ms/step\n",
      "1/1 [==============================] - 0s 50ms/step\n",
      "1/1 [==============================] - 0s 50ms/step\n",
      "1/1 [==============================] - 0s 57ms/step\n",
      "1/1 [==============================] - 0s 58ms/step\n",
      "1/1 [==============================] - 0s 52ms/step\n",
      "1/1 [==============================] - 0s 67ms/step\n",
      "1/1 [==============================] - 0s 60ms/step\n",
      "1/1 [==============================] - 0s 75ms/step\n",
      "1/1 [==============================] - 0s 78ms/step\n",
      "1/1 [==============================] - 0s 66ms/step\n",
      "1/1 [==============================] - 0s 89ms/step\n",
      "1/1 [==============================] - 0s 97ms/step\n",
      "1/1 [==============================] - 0s 67ms/step\n",
      "1/1 [==============================] - 0s 62ms/step\n",
      "1/1 [==============================] - 0s 84ms/step\n",
      "1/1 [==============================] - 0s 68ms/step\n",
      "1/1 [==============================] - 0s 50ms/step\n",
      "1/1 [==============================] - 0s 56ms/step\n",
      "1/1 [==============================] - 0s 54ms/step\n",
      "1/1 [==============================] - 0s 76ms/step\n",
      "1/1 [==============================] - 0s 63ms/step\n",
      "1/1 [==============================] - 0s 60ms/step\n",
      "1/1 [==============================] - 0s 65ms/step\n",
      "1/1 [==============================] - 0s 129ms/step\n",
      "1/1 [==============================] - 0s 83ms/step\n",
      "1/1 [==============================] - 0s 91ms/step\n",
      "1/1 [==============================] - 0s 73ms/step\n",
      "1/1 [==============================] - 0s 72ms/step\n",
      "1/1 [==============================] - 0s 75ms/step\n",
      "1/1 [==============================] - 0s 72ms/step\n",
      "1/1 [==============================] - 0s 52ms/step\n",
      "1/1 [==============================] - 0s 53ms/step\n",
      "1/1 [==============================] - 0s 57ms/step\n",
      "1/1 [==============================] - 0s 64ms/step\n",
      "1/1 [==============================] - 0s 48ms/step\n",
      "1/1 [==============================] - 0s 55ms/step\n",
      "1/1 [==============================] - 0s 53ms/step\n",
      "1/1 [==============================] - 0s 65ms/step\n",
      "1/1 [==============================] - 0s 48ms/step\n",
      "1/1 [==============================] - 0s 48ms/step\n",
      "1/1 [==============================] - 0s 48ms/step\n",
      "1/1 [==============================] - 0s 52ms/step\n",
      "1/1 [==============================] - 0s 49ms/step\n",
      "1/1 [==============================] - 0s 55ms/step\n",
      "1/1 [==============================] - 0s 52ms/step\n",
      "1/1 [==============================] - 0s 49ms/step\n",
      "1/1 [==============================] - 0s 53ms/step\n",
      "1/1 [==============================] - 0s 46ms/step\n",
      "1/1 [==============================] - 0s 45ms/step\n",
      "1/1 [==============================] - 0s 49ms/step\n",
      "1/1 [==============================] - 0s 50ms/step\n",
      "1/1 [==============================] - 0s 48ms/step\n",
      "1/1 [==============================] - 0s 48ms/step\n",
      "1/1 [==============================] - 0s 50ms/step\n",
      "1/1 [==============================] - 0s 49ms/step\n",
      "1/1 [==============================] - 0s 46ms/step\n",
      "1/1 [==============================] - 0s 47ms/step\n",
      "1/1 [==============================] - 0s 48ms/step\n",
      "1/1 [==============================] - 0s 49ms/step\n",
      "1/1 [==============================] - 0s 47ms/step\n",
      "1/1 [==============================] - 0s 49ms/step\n",
      "1/1 [==============================] - 0s 45ms/step\n",
      "1/1 [==============================] - 0s 51ms/step\n",
      "1/1 [==============================] - 0s 48ms/step\n",
      "1/1 [==============================] - 0s 49ms/step\n",
      "1/1 [==============================] - 0s 51ms/step\n",
      "1/1 [==============================] - 0s 45ms/step\n",
      "1/1 [==============================] - 0s 46ms/step\n",
      "1/1 [==============================] - 0s 48ms/step\n",
      "1/1 [==============================] - 0s 49ms/step\n",
      "1/1 [==============================] - 0s 49ms/step\n",
      "1/1 [==============================] - 0s 46ms/step\n",
      "1/1 [==============================] - 0s 48ms/step\n",
      "1/1 [==============================] - 0s 49ms/step\n",
      "1/1 [==============================] - 0s 46ms/step\n",
      "1/1 [==============================] - 0s 45ms/step\n"
     ]
    }
   ],
   "source": [
    "model = tensorflow.keras.models.load_model(r'E:\\Github Projects\\New folder\\model_file.h5', compile=False)\n",
    "model.compile(optimizer='adam', loss='sparse_categorical_crossentropy', metrics=['accuracy'])\n",
    "\n",
    "index = np.random.randint(0, len(x_test) - 1)\n",
    "music_pattern = x_test[index]\n",
    "\n",
    "out_pred = []\n",
    "\n",
    "for i in range(200):\n",
    "    music_pattern = music_pattern.reshape(1, len(music_pattern),1)\n",
    "    pred_index = np.argmax(model.predict(music_pattern))\n",
    "    out_pred.append(ind2note[pred_index])\n",
    "    music_pattern = np.append(music_pattern, pred_index)\n",
    "    music_pattern = music_pattern[1:]"
   ]
  },
  {
   "cell_type": "code",
   "execution_count": 27,
   "metadata": {},
   "outputs": [
    {
     "data": {
      "text/plain": [
       "'pred_music.mid'"
      ]
     },
     "execution_count": 27,
     "metadata": {},
     "output_type": "execute_result"
    }
   ],
   "source": [
    "output_notes = []\n",
    "for offset, pattern in enumerate(out_pred):\n",
    "    if ('.' in pattern) or pattern.isdigit():\n",
    "        notes_in_chord = pattern.split('.')\n",
    "        notes = []\n",
    "        for current_note in notes_in_chord:\n",
    "            i_curr_note = int(current_note)\n",
    "            new_note = note.Note(i_curr_note)\n",
    "            new_note.storedInstrument = instrument.Piano()\n",
    "            notes.append(new_note)\n",
    "\n",
    "            new_chord = chord.Chord(notes)\n",
    "            new_chord.offset = offset\n",
    "            output_notes.append(new_chord)\n",
    "\n",
    "    else:\n",
    "        new_note = note.Note(pattern)\n",
    "        new_note.offset = offset\n",
    "        new_note.storedInstrument = instrument.Piano()\n",
    "        output_notes.append(new_note)\n",
    "\n",
    "\n",
    "midi_stream = stream.Stream(output_notes)\n",
    "midi_stream.write('midi', fp='pred_music.mid')\n"
   ]
  },
  {
   "cell_type": "code",
   "execution_count": 1,
   "metadata": {},
   "outputs": [
    {
     "ename": "NameError",
     "evalue": "name 'MidiFile' is not defined",
     "output_type": "error",
     "traceback": [
      "\u001b[1;31m---------------------------------------------------------------------------\u001b[0m",
      "\u001b[1;31mNameError\u001b[0m                                 Traceback (most recent call last)",
      "Cell \u001b[1;32mIn[1], line 1\u001b[0m\n\u001b[1;32m----> 1\u001b[0m mid \u001b[39m=\u001b[39m MidiFile(\u001b[39mr\u001b[39m\u001b[39m'\u001b[39m\u001b[39mE:\u001b[39m\u001b[39m\\\u001b[39m\u001b[39mGithub Projects\u001b[39m\u001b[39m\\\u001b[39m\u001b[39mNew folder\u001b[39m\u001b[39m\\\u001b[39m\u001b[39mpred_music.mid\u001b[39m\u001b[39m'\u001b[39m)\n\u001b[0;32m      2\u001b[0m output \u001b[39m=\u001b[39m mido\u001b[39m.\u001b[39mopen_output()\n\u001b[0;32m      3\u001b[0m \u001b[39mfor\u001b[39;00m msg \u001b[39min\u001b[39;00m mid\u001b[39m.\u001b[39mplay():\n",
      "\u001b[1;31mNameError\u001b[0m: name 'MidiFile' is not defined"
     ]
    }
   ],
   "source": [
    "mid = MidiFile(r'E:\\Github Projects\\New folder\\pred_music.mid')\n",
    "output = mido.open_output()\n",
    "for msg in mid.play():\n",
    "    output.send(msg)"
   ]
  }
 ],
 "metadata": {
  "kernelspec": {
   "display_name": "venv1",
   "language": "python",
   "name": "python3"
  },
  "language_info": {
   "codemirror_mode": {
    "name": "ipython",
    "version": 3
   },
   "file_extension": ".py",
   "mimetype": "text/x-python",
   "name": "python",
   "nbconvert_exporter": "python",
   "pygments_lexer": "ipython3",
   "version": "3.11.4"
  },
  "orig_nbformat": 4
 },
 "nbformat": 4,
 "nbformat_minor": 2
}
